{
 "cells": [
  {
   "cell_type": "code",
   "execution_count": null,
   "id": "9f1321d1",
   "metadata": {},
   "outputs": [
    {
     "name": "stdout",
     "output_type": "stream",
     "text": [
      "Successfully generated 'dataset.csv' with 5000 rows.\n"
     ]
    }
   ],
   "source": [
    "import csv\n",
    "import random\n",
    "\n",
    "# The number of sample users you want to generate\n",
    "NUM_ROWS = 25000\n",
    "\n",
    "# This is our \"Expert Logic\" mapping RIASEC codes to career clusters\n",
    "CAREER_MAP = {\n",
    "    \"RI\": {\"cluster\": \"Engineering & Tech\", \"stream\": \"Science (PCM)\"},\n",
    "    \"IR\": {\"cluster\": \"Engineering & Tech\", \"stream\": \"Science (PCM)\"},\n",
    "    \"IS\": {\"cluster\": \"Science & Medical\", \"stream\": \"Science (PCB)\"},\n",
    "    \"SI\": {\"cluster\": \"Science & Medical\", \"stream\": \"Science (PCB)\"},\n",
    "    \"RS\": {\"cluster\": \"Healthcare Support\", \"stream\": \"Science (PCB)\"},\n",
    "    \"AS\": {\"cluster\": \"Arts & Humanities\", \"stream\": \"Arts\"},\n",
    "    \"SA\": {\"cluster\": \"Education & Social Work\", \"stream\": \"Arts\"},\n",
    "    \"EC\": {\"cluster\": \"Business & Finance\", \"stream\": \"Commerce\"},\n",
    "    \"CE\": {\"cluster\": \"Business & Finance\", \"stream\": \"Commerce\"},\n",
    "    \"RC\": {\"cluster\": \"Skilled Trades & Ops\", \"stream\": \"Vocational\"},\n",
    "    \"CR\": {\"cluster\": \"Skilled Trades & Ops\", \"stream\": \"Vocational\"},\n",
    "    # Fallbacks for single-letter codes\n",
    "    \"R\": {\"cluster\": \"Skilled Trades & Ops\", \"stream\": \"Vocational\"},\n",
    "    \"I\": {\"cluster\": \"Engineering & Tech\", \"stream\": \"Science (PCM)\"},\n",
    "    \"A\": {\"cluster\": \"Arts & Humanities\", \"stream\": \"Arts\"},\n",
    "    \"S\": {\"cluster\": \"Education & Social Work\", \"stream\": \"Arts\"},\n",
    "    \"E\": {\"cluster\": \"Business & Finance\", \"stream\": \"Commerce\"},\n",
    "    \"C\": {\"cluster\": \"Business & Finance\", \"stream\": \"Commerce\"},\n",
    "}\n",
    "\n",
    "def generate_dataset(filename=\"dataset.csv\"):\n",
    "    \"\"\"Generates the synthetic dataset and saves it to a CSV file.\"\"\"\n",
    "    header = [f\"Q{i+1}\" for i in range(12)] + [\"CareerCluster\"]\n",
    "    \n",
    "    with open(filename, 'w', newline='') as f:\n",
    "        writer = csv.writer(f)\n",
    "        writer.writerow(header)\n",
    "\n",
    "        for _ in range(NUM_ROWS):\n",
    "            # Generate 12 random answers (scale of 1-5)\n",
    "            answers = [random.randint(1, 5) for _ in range(12)]\n",
    "            \n",
    "            # Calculate scores for each RIASEC type\n",
    "            scores = {\n",
    "                'R': answers[0] + answers[1],\n",
    "                'I': answers[2] + answers[3],\n",
    "                'A': answers[4] + answers[5],\n",
    "                'S': answers[6] + answers[7],\n",
    "                'E': answers[8] + answers[9],\n",
    "                'C': answers[10] + answers[11]\n",
    "            }\n",
    "            \n",
    "            # Get the top two RIASEC codes\n",
    "            sorted_codes = sorted(scores, key=scores.get, reverse=True)\n",
    "            top_two_code = sorted_codes[0] + sorted_codes[1]\n",
    "            primary_code = sorted_codes[0]\n",
    "\n",
    "            # Determine the career cluster using our expert map\n",
    "            if top_two_code in CAREER_MAP:\n",
    "                career_cluster = CAREER_MAP[top_two_code][\"cluster\"]\n",
    "            else:\n",
    "                career_cluster = CAREER_MAP[primary_code][\"cluster\"]\n",
    "\n",
    "            # Write the row to the CSV file\n",
    "            writer.writerow(answers + [career_cluster])\n",
    "            \n",
    "    print(f\"Successfully generated '{filename}' with {NUM_ROWS} rows.\")\n",
    "\n",
    "\n",
    "if __name__ == \"__main__\":\n",
    "    generate_dataset()"
   ]
  },
  {
   "cell_type": "code",
   "execution_count": null,
   "id": "a240ee2f",
   "metadata": {},
   "outputs": [],
   "source": []
  }
 ],
 "metadata": {
  "kernelspec": {
   "display_name": "Python 3",
   "language": "python",
   "name": "python3"
  },
  "language_info": {
   "codemirror_mode": {
    "name": "ipython",
    "version": 3
   },
   "file_extension": ".py",
   "mimetype": "text/x-python",
   "name": "python",
   "nbconvert_exporter": "python",
   "pygments_lexer": "ipython3",
   "version": "3.12.1"
  }
 },
 "nbformat": 4,
 "nbformat_minor": 5
}
